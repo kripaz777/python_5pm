{
 "cells": [
  {
   "cell_type": "code",
   "execution_count": 1,
   "id": "1b936cc5",
   "metadata": {},
   "outputs": [],
   "source": [
    "# class <class_name>:\n",
    "#     <operation>\n",
    "    \n",
    "# obj = <class_name>()"
   ]
  },
  {
   "cell_type": "code",
   "execution_count": 3,
   "id": "4550f8fb",
   "metadata": {},
   "outputs": [
    {
     "name": "stdout",
     "output_type": "stream",
     "text": [
      "Hello World\n"
     ]
    }
   ],
   "source": [
    "class Hello:\n",
    "    print(\"Hello World\")\n",
    "    \n",
    "obj = Hello()"
   ]
  },
  {
   "cell_type": "code",
   "execution_count": 6,
   "id": "e9cb9d77",
   "metadata": {},
   "outputs": [
    {
     "name": "stdout",
     "output_type": "stream",
     "text": [
      "Hello World\n"
     ]
    }
   ],
   "source": [
    "class Hello:                     #class\n",
    "    @staticmethod\n",
    "    def hello():                 #method\n",
    "        print(\"Hello World\")\n",
    "        \n",
    "obj = Hello()\n",
    "obj.hello()                      #object"
   ]
  },
  {
   "cell_type": "code",
   "execution_count": 8,
   "id": "8d247a63",
   "metadata": {},
   "outputs": [
    {
     "name": "stdout",
     "output_type": "stream",
     "text": [
      "Hello World\n"
     ]
    }
   ],
   "source": [
    "class Hello:                     #class\n",
    "    def hello(self):                 #method\n",
    "        print(\"Hello World\")\n",
    "        \n",
    "obj = Hello()\n",
    "obj.hello()                      #object"
   ]
  },
  {
   "cell_type": "code",
   "execution_count": 9,
   "id": "326da02c",
   "metadata": {},
   "outputs": [
    {
     "name": "stdout",
     "output_type": "stream",
     "text": [
      "50\n"
     ]
    }
   ],
   "source": [
    "class Cal:\n",
    "    @staticmethod\n",
    "    def area(l,b):\n",
    "        a = l*b\n",
    "        print(a)\n",
    "    \n",
    "obj = Cal()\n",
    "obj.area(10,5)"
   ]
  },
  {
   "cell_type": "code",
   "execution_count": 10,
   "id": "289d3451",
   "metadata": {},
   "outputs": [
    {
     "name": "stdout",
     "output_type": "stream",
     "text": [
      "50\n"
     ]
    }
   ],
   "source": [
    "class Cal:\n",
    "    \n",
    "    def area(self,l,b):\n",
    "        a = l*b\n",
    "        print(a)\n",
    "    \n",
    "obj = Cal()\n",
    "obj.area(10,5)"
   ]
  },
  {
   "cell_type": "code",
   "execution_count": 1,
   "id": "1e3f99cc",
   "metadata": {},
   "outputs": [],
   "source": [
    "# __init__()\n"
   ]
  },
  {
   "cell_type": "code",
   "execution_count": 2,
   "id": "d3b460c2",
   "metadata": {},
   "outputs": [
    {
     "name": "stdout",
     "output_type": "stream",
     "text": [
      "50\n"
     ]
    }
   ],
   "source": [
    "class Cal:\n",
    "    def __init__(self,l,b):\n",
    "        self.l = l\n",
    "        self.b = b\n",
    "        \n",
    "    def area(self):\n",
    "        a = self.l*self.b\n",
    "        print(a)\n",
    "    \n",
    "obj = Cal(10,5)\n",
    "obj.area()"
   ]
  },
  {
   "cell_type": "code",
   "execution_count": 5,
   "id": "67082128",
   "metadata": {},
   "outputs": [
    {
     "name": "stdout",
     "output_type": "stream",
     "text": [
      "50\n",
      "100\n",
      "10 5 2\n"
     ]
    }
   ],
   "source": [
    "class Cal:\n",
    "    def __init__(self,l,b,h):\n",
    "        self.l = l\n",
    "        self.b = b\n",
    "        self.h = h\n",
    "        \n",
    "    def area(self):\n",
    "        a = self.l*self.b\n",
    "        print(a)\n",
    "        \n",
    "    def volume(self):\n",
    "        v = self.l*self.b*self.h\n",
    "        print(v)\n",
    "    \n",
    "obj = Cal(10,5,2)\n",
    "obj.area()\n",
    "obj.volume()\n",
    "print(obj.l,obj.b,obj.h)"
   ]
  },
  {
   "cell_type": "code",
   "execution_count": 9,
   "id": "cbbc467d",
   "metadata": {},
   "outputs": [
    {
     "name": "stdout",
     "output_type": "stream",
     "text": [
      "Enter name = Ram\n",
      "Enter age = 78\n",
      "Enter add = Kathmandu\n",
      "Ram\n",
      "<class '__main__.Info'>\n",
      "Ram\n",
      "Ram\n"
     ]
    }
   ],
   "source": [
    "class Info:\n",
    "    def __init__(self):\n",
    "        self.name = input(\"Enter name = \")\n",
    "        self.age = int(input(\"Enter age = \"))\n",
    "        self.add = input(\"Enter add = \")\n",
    "    def __str__(self):\n",
    "        return self.name\n",
    "    \n",
    "obj = Info()\n",
    "print(obj)\n",
    "print(type(obj))\n",
    "print(str(obj))\n",
    "print(obj.__str__())"
   ]
  },
  {
   "cell_type": "code",
   "execution_count": 10,
   "id": "a977506e",
   "metadata": {},
   "outputs": [
    {
     "name": "stdout",
     "output_type": "stream",
     "text": [
      "Enter name = Ram\n",
      "Enter age = 89\n",
      "Enter add = Kathmandu\n",
      "Hello World I am Ram. I am from Kathmandu. I am 89\n"
     ]
    }
   ],
   "source": [
    "class Info:\n",
    "    def __init__(self,name,age,add):\n",
    "        self.name = name\n",
    "        self.age = age\n",
    "        self.add = add\n",
    "    def info(self):\n",
    "        return f\"Hello World I am {self.name}. I am from {self.add}. I am {self.age}\"\n",
    "    \n",
    "    \n",
    "name = input(\"Enter name = \")\n",
    "age = int(input(\"Enter age = \"))\n",
    "add = input(\"Enter add = \")\n",
    "obj = Info(name,age,add)\n",
    "\n",
    "print(obj.info())"
   ]
  },
  {
   "cell_type": "code",
   "execution_count": null,
   "id": "2a871d4b",
   "metadata": {},
   "outputs": [],
   "source": []
  }
 ],
 "metadata": {
  "kernelspec": {
   "display_name": "Python 3 (ipykernel)",
   "language": "python",
   "name": "python3"
  },
  "language_info": {
   "codemirror_mode": {
    "name": "ipython",
    "version": 3
   },
   "file_extension": ".py",
   "mimetype": "text/x-python",
   "name": "python",
   "nbconvert_exporter": "python",
   "pygments_lexer": "ipython3",
   "version": "3.9.12"
  }
 },
 "nbformat": 4,
 "nbformat_minor": 5
}
