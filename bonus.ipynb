{
 "cells": [
  {
   "cell_type": "code",
   "execution_count": 1,
   "id": "72359b05",
   "metadata": {},
   "outputs": [],
   "source": [
    "# Date & Time in python"
   ]
  },
  {
   "cell_type": "code",
   "execution_count": 2,
   "id": "a641f88a",
   "metadata": {},
   "outputs": [
    {
     "name": "stdout",
     "output_type": "stream",
     "text": [
      "2023-06-07 17:10:14.316624\n"
     ]
    }
   ],
   "source": [
    "import datetime as dt\n",
    "\n",
    "x = dt.datetime.now()\n",
    "print(x)"
   ]
  },
  {
   "cell_type": "code",
   "execution_count": 21,
   "id": "a9463cae",
   "metadata": {},
   "outputs": [
    {
     "name": "stdout",
     "output_type": "stream",
     "text": [
      "2023\n",
      "6\n",
      "7\n",
      "06/07/23\n"
     ]
    },
    {
     "data": {
      "text/plain": [
       "25"
      ]
     },
     "execution_count": 21,
     "metadata": {},
     "output_type": "execute_result"
    }
   ],
   "source": [
    "import datetime\n",
    "\n",
    "x = datetime.datetime.now()\n",
    "\n",
    "print(x.year)\n",
    "print(x.month)\n",
    "print(x.day)\n",
    "print(x.second)\n",
    "print(x.strftime(\"%D\"))\n"
   ]
  },
  {
   "cell_type": "code",
   "execution_count": 11,
   "id": "50b24bc8",
   "metadata": {},
   "outputs": [
    {
     "name": "stdout",
     "output_type": "stream",
     "text": [
      "Enter name = Ram\n",
      "0:00:11.074969\n"
     ]
    }
   ],
   "source": [
    "import datetime as dt\n",
    "\n",
    "x = dt.datetime.now()\n",
    "name = input(\"Enter name = \")\n",
    "y = dt.datetime.now()\n",
    "print(y-x)"
   ]
  },
  {
   "cell_type": "code",
   "execution_count": 16,
   "id": "9fb77b7d",
   "metadata": {},
   "outputs": [
    {
     "data": {
      "text/plain": [
       "datetime.datetime"
      ]
     },
     "execution_count": 16,
     "metadata": {},
     "output_type": "execute_result"
    }
   ],
   "source": [
    "type(x)"
   ]
  },
  {
   "cell_type": "code",
   "execution_count": 19,
   "id": "ba414536",
   "metadata": {},
   "outputs": [
    {
     "name": "stdout",
     "output_type": "stream",
     "text": [
      "Enter name = jgjhgh\n"
     ]
    },
    {
     "data": {
      "text/plain": [
       "4"
      ]
     },
     "execution_count": 19,
     "metadata": {},
     "output_type": "execute_result"
    }
   ],
   "source": [
    "import datetime\n",
    "\n",
    "x = datetime.datetime.now()\n",
    "s1 = x.strftime(\"%S\")\n",
    "\n",
    "name = input(\"Enter name = \")\n",
    "\n",
    "y = datetime.datetime.now()\n",
    "s2 = y.strftime(\"%S\")\n",
    "int(s2)-int(s1)"
   ]
  },
  {
   "cell_type": "code",
   "execution_count": 23,
   "id": "6e355650",
   "metadata": {},
   "outputs": [
    {
     "data": {
      "text/plain": [
       "[0, 1, 2, 3, 4, 5, 6, 7, 8, 9, 10]"
      ]
     },
     "execution_count": 23,
     "metadata": {},
     "output_type": "execute_result"
    }
   ],
   "source": [
    "# Comprehensions: List, Dictionary\n",
    "l = [i for i in range(0,11)]\n",
    "l"
   ]
  },
  {
   "cell_type": "code",
   "execution_count": 24,
   "id": "27aa3968",
   "metadata": {},
   "outputs": [
    {
     "name": "stdout",
     "output_type": "stream",
     "text": [
      "Enter value234\n",
      "Enter value435\n",
      "Enter value354\n",
      "Enter value567\n",
      "Enter value45\n"
     ]
    },
    {
     "data": {
      "text/plain": [
       "[234, 435, 354, 567, 45]"
      ]
     },
     "execution_count": 24,
     "metadata": {},
     "output_type": "execute_result"
    }
   ],
   "source": [
    "l = [int(input(\"Enter value\")) for i in range(5)]\n",
    "l"
   ]
  },
  {
   "cell_type": "code",
   "execution_count": 25,
   "id": "0358c8a2",
   "metadata": {},
   "outputs": [
    {
     "data": {
      "text/plain": [
       "{1: 1, 2: 4, 3: 9, 4: 16, 5: 25}"
      ]
     },
     "execution_count": 25,
     "metadata": {},
     "output_type": "execute_result"
    }
   ],
   "source": [
    "d = {i:i**2 for i in range(1,6)}\n",
    "d"
   ]
  },
  {
   "cell_type": "code",
   "execution_count": 26,
   "id": "48174554",
   "metadata": {},
   "outputs": [
    {
     "name": "stdout",
     "output_type": "stream",
     "text": [
      "Enter name = ram\n",
      "Enter phone = 9808778765\n",
      "Enter name = Shyam\n",
      "Enter phone = 9808778765\n"
     ]
    },
    {
     "data": {
      "text/plain": [
       "{'ram': '9808778765', 'Shyam': '9808778765'}"
      ]
     },
     "execution_count": 26,
     "metadata": {},
     "output_type": "execute_result"
    }
   ],
   "source": [
    "d = {input(\"Enter name = \"):input(\"Enter phone = \") for i in range(2)}\n",
    "d"
   ]
  },
  {
   "cell_type": "code",
   "execution_count": 27,
   "id": "eeae7795",
   "metadata": {},
   "outputs": [
    {
     "data": {
      "text/plain": [
       "['.git',\n",
       " '.ipynb_checkpoints',\n",
       " 'bill.csv',\n",
       " 'bill.txt',\n",
       " 'billing.txt',\n",
       " 'bonus.ipynb',\n",
       " 'classworks.ipynb',\n",
       " 'covid_data.csv',\n",
       " 'data.csv',\n",
       " 'data.txt',\n",
       " 'Dictionary.ipynb',\n",
       " 'file.ipynb',\n",
       " 'first_class.ipynb',\n",
       " 'function.ipynb',\n",
       " 'ifelse.ipynb',\n",
       " 'inheritance.ipynb',\n",
       " 'IO.ipynb',\n",
       " 'list.ipynb',\n",
       " 'list_data.csv',\n",
       " 'loop.ipynb',\n",
       " 'mysql.ipynb',\n",
       " 'new_data.csv',\n",
       " 'oop.ipynb',\n",
       " 'pandas.ipynb',\n",
       " 'project.ipynb',\n",
       " 'set and tuple.ipynb',\n",
       " 'set.ipynb',\n",
       " 'string.ipynb',\n",
       " 'Untitled.ipynb']"
      ]
     },
     "execution_count": 27,
     "metadata": {},
     "output_type": "execute_result"
    }
   ],
   "source": [
    "import os\n",
    "os.listdir()"
   ]
  },
  {
   "cell_type": "code",
   "execution_count": 28,
   "id": "a4459f69",
   "metadata": {},
   "outputs": [],
   "source": [
    "os.mkdir('new_folder')"
   ]
  },
  {
   "cell_type": "code",
   "execution_count": 29,
   "id": "6893dbea",
   "metadata": {},
   "outputs": [],
   "source": [
    "os.chdir('new_folder')"
   ]
  },
  {
   "cell_type": "code",
   "execution_count": 30,
   "id": "05c994cc",
   "metadata": {},
   "outputs": [
    {
     "data": {
      "text/plain": [
       "'C:\\\\Users\\\\Aayush\\\\PythonClass_5pm\\\\new_folder'"
      ]
     },
     "execution_count": 30,
     "metadata": {},
     "output_type": "execute_result"
    }
   ],
   "source": [
    "pwd"
   ]
  },
  {
   "cell_type": "code",
   "execution_count": 31,
   "id": "93f0f012",
   "metadata": {},
   "outputs": [
    {
     "name": "stdout",
     "output_type": "stream",
     "text": [
      "C:\\Users\\Aayush\\PythonClass_5pm\n"
     ]
    }
   ],
   "source": [
    "cd .."
   ]
  },
  {
   "cell_type": "code",
   "execution_count": 32,
   "id": "c0e4c0d5",
   "metadata": {},
   "outputs": [],
   "source": [
    "os.remove('data.txt')"
   ]
  },
  {
   "cell_type": "code",
   "execution_count": 33,
   "id": "9ad305cb",
   "metadata": {},
   "outputs": [],
   "source": [
    "os.rmdir('new_folder')"
   ]
  },
  {
   "cell_type": "code",
   "execution_count": 34,
   "id": "886e961e",
   "metadata": {},
   "outputs": [],
   "source": [
    "os.rename('bill.txt','Bill.txt')"
   ]
  },
  {
   "cell_type": "code",
   "execution_count": 36,
   "id": "acc61fe1",
   "metadata": {},
   "outputs": [
    {
     "data": {
      "text/html": [
       "<div>\n",
       "<style scoped>\n",
       "    .dataframe tbody tr th:only-of-type {\n",
       "        vertical-align: middle;\n",
       "    }\n",
       "\n",
       "    .dataframe tbody tr th {\n",
       "        vertical-align: top;\n",
       "    }\n",
       "\n",
       "    .dataframe thead th {\n",
       "        text-align: right;\n",
       "    }\n",
       "</style>\n",
       "<table border=\"1\" class=\"dataframe\">\n",
       "  <thead>\n",
       "    <tr style=\"text-align: right;\">\n",
       "      <th></th>\n",
       "      <th>name</th>\n",
       "      <th>age</th>\n",
       "      <th>add</th>\n",
       "    </tr>\n",
       "  </thead>\n",
       "  <tbody>\n",
       "    <tr>\n",
       "      <th>0</th>\n",
       "      <td>Ram</td>\n",
       "      <td>45</td>\n",
       "      <td>Kathmandu</td>\n",
       "    </tr>\n",
       "    <tr>\n",
       "      <th>1</th>\n",
       "      <td>Shyam</td>\n",
       "      <td>67</td>\n",
       "      <td>Bhaktapur</td>\n",
       "    </tr>\n",
       "    <tr>\n",
       "      <th>2</th>\n",
       "      <td>Hari</td>\n",
       "      <td>89</td>\n",
       "      <td>Lalitpur</td>\n",
       "    </tr>\n",
       "  </tbody>\n",
       "</table>\n",
       "</div>"
      ],
      "text/plain": [
       "    name  age        add\n",
       "0    Ram   45  Kathmandu\n",
       "1  Shyam   67  Bhaktapur\n",
       "2   Hari   89   Lalitpur"
      ]
     },
     "execution_count": 36,
     "metadata": {},
     "output_type": "execute_result"
    }
   ],
   "source": [
    "import pandas as pd\n",
    "data = {'name':['Ram','Shyam','Hari'],\n",
    "       'age':[45,67,89],\n",
    "       'add':['Kathmandu','Bhaktapur','Lalitpur']}\n",
    "df = pd.DataFrame(data)\n",
    "df.to_json('info.json')\n",
    "df"
   ]
  },
  {
   "cell_type": "code",
   "execution_count": null,
   "id": "23553cc5",
   "metadata": {},
   "outputs": [],
   "source": []
  }
 ],
 "metadata": {
  "kernelspec": {
   "display_name": "Python 3 (ipykernel)",
   "language": "python",
   "name": "python3"
  },
  "language_info": {
   "codemirror_mode": {
    "name": "ipython",
    "version": 3
   },
   "file_extension": ".py",
   "mimetype": "text/x-python",
   "name": "python",
   "nbconvert_exporter": "python",
   "pygments_lexer": "ipython3",
   "version": "3.9.12"
  }
 },
 "nbformat": 4,
 "nbformat_minor": 5
}
