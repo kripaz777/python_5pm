{
 "cells": [
  {
   "cell_type": "code",
   "execution_count": 1,
   "id": "56abe4f9",
   "metadata": {},
   "outputs": [],
   "source": [
    "# # b = open('<file_name>','<modes>')\n",
    "# # b.close()\n",
    "\n",
    "\n",
    "# with open('<file_name>','<modes>') as file:\n",
    "#     <operation>"
   ]
  },
  {
   "cell_type": "code",
   "execution_count": 2,
   "id": "87f31e10",
   "metadata": {},
   "outputs": [],
   "source": [
    "# modes\n",
    "# read ->r\n",
    "# write ->w\n",
    "# create ->x\n",
    "# append ->a"
   ]
  },
  {
   "cell_type": "code",
   "execution_count": 3,
   "id": "a4dcc01d",
   "metadata": {},
   "outputs": [],
   "source": [
    "file = open('data.txt','x')\n",
    "file.close()"
   ]
  },
  {
   "cell_type": "code",
   "execution_count": 6,
   "id": "d1dce253",
   "metadata": {},
   "outputs": [
    {
     "name": "stdout",
     "output_type": "stream",
     "text": [
      "<class 'str'>\n",
      "1.Hello World\n",
      "2.Hello World\n",
      "3.Hello World\n",
      "4.Hello World\n",
      "5.Hello World\n"
     ]
    }
   ],
   "source": [
    "file = open('data.txt','r')\n",
    "x = file.read()\n",
    "print(type(x))\n",
    "print(x)\n",
    "file.close()"
   ]
  },
  {
   "cell_type": "code",
   "execution_count": 7,
   "id": "134ce1ce",
   "metadata": {},
   "outputs": [
    {
     "data": {
      "text/plain": [
       "['1.Hello World',\n",
       " '2.Hello World',\n",
       " '3.Hello World',\n",
       " '4.Hello World',\n",
       " '5.Hello World']"
      ]
     },
     "execution_count": 7,
     "metadata": {},
     "output_type": "execute_result"
    }
   ],
   "source": [
    "x.split('\\n')"
   ]
  },
  {
   "cell_type": "code",
   "execution_count": 8,
   "id": "0e9d245d",
   "metadata": {},
   "outputs": [],
   "source": [
    "file = open('data.txt','w')\n",
    "file.write('Hello World')\n",
    "file.close()"
   ]
  },
  {
   "cell_type": "code",
   "execution_count": 9,
   "id": "15f0a6a0",
   "metadata": {},
   "outputs": [
    {
     "name": "stdout",
     "output_type": "stream",
     "text": [
      "Enter n = 2\n",
      "Enter product name = Coke\n",
      "Enter price = 100\n",
      "Enter quantity = 3\n",
      "Enter product name = Momo\n",
      "Enter price = 200\n",
      "Enter quantity = 3\n",
      "Coke 100 3 300\n",
      "Momo 200 3 600\n",
      "\n"
     ]
    }
   ],
   "source": [
    "s = \"\"\n",
    "n = int(input(\"Enter n = \"))\n",
    "for i in range(n):\n",
    "    product = input(\"Enter product name = \")\n",
    "    price = int(input(\"Enter price = \"))\n",
    "    quantity = int(input(\"Enter quantity = \"))\n",
    "    total = price * quantity\n",
    "    info = f\"{product} {price} {quantity} {total}\\n\"\n",
    "    s = s + info\n",
    "print(s)\n",
    "\n",
    "file = open('bill.txt','w')\n",
    "file.write(s)\n",
    "file.close()"
   ]
  },
  {
   "cell_type": "code",
   "execution_count": 11,
   "id": "1d66e27a",
   "metadata": {},
   "outputs": [
    {
     "name": "stdout",
     "output_type": "stream",
     "text": [
      "Enter n = 2\n",
      "Enter product name = Fanta\n",
      "Enter price = 300\n",
      "Enter quantity = 2\n",
      "Enter product name = Apple\n",
      "Enter price = 300\n",
      "Enter quantity = 2\n"
     ]
    }
   ],
   "source": [
    "s = \"\"\n",
    "file = open('billing.txt','a')\n",
    "n = int(input(\"Enter n = \"))\n",
    "for i in range(n):\n",
    "    product = input(\"Enter product name = \")\n",
    "    price = int(input(\"Enter price = \"))\n",
    "    quantity = int(input(\"Enter quantity = \"))\n",
    "    total = price * quantity\n",
    "    info = f\"{product} {price} {quantity} {total}\\n\"\n",
    "    file.write(info)\n",
    "\n",
    "\n",
    "file.close()"
   ]
  },
  {
   "cell_type": "code",
   "execution_count": 15,
   "id": "8b56da22",
   "metadata": {},
   "outputs": [
    {
     "data": {
      "text/plain": [
       "['Coke 100 2 200', 'Momo 100 3 300', 'Fanta 300 2 600', 'Apple 300 2 600']"
      ]
     },
     "execution_count": 15,
     "metadata": {},
     "output_type": "execute_result"
    }
   ],
   "source": [
    "file = open('billing.txt','r')\n",
    "x = file.read()\n",
    "y = x.split('\\n')[:-1]\n",
    "y"
   ]
  },
  {
   "cell_type": "code",
   "execution_count": 18,
   "id": "d037a675",
   "metadata": {},
   "outputs": [
    {
     "data": {
      "text/plain": [
       "[['Coke', '100', '2', '200'],\n",
       " ['Momo', '100', '3', '300'],\n",
       " ['Fanta', '300', '2', '600'],\n",
       " ['Apple', '300', '2', '600']]"
      ]
     },
     "execution_count": 18,
     "metadata": {},
     "output_type": "execute_result"
    }
   ],
   "source": [
    "net_bill = []\n",
    "for i in y:\n",
    "    net_bill.append(i.split())\n",
    "    \n",
    "net_bill"
   ]
  },
  {
   "cell_type": "code",
   "execution_count": 19,
   "id": "b9fd40b8",
   "metadata": {},
   "outputs": [
    {
     "name": "stdout",
     "output_type": "stream",
     "text": [
      "Enter n = 2\n",
      "Enter product name = Apple\n",
      "Enter price = 34\n",
      "Enter quantity = 3\n",
      "Enter product name = Ball\n",
      "Enter price = 100\n",
      "Enter quantity = 3\n",
      "Apple,34,3,102\n",
      "Ball,100,3,300\n",
      "\n"
     ]
    }
   ],
   "source": [
    "s = \"\"\n",
    "n = int(input(\"Enter n = \"))\n",
    "for i in range(n):\n",
    "    product = input(\"Enter product name = \")\n",
    "    price = int(input(\"Enter price = \"))\n",
    "    quantity = int(input(\"Enter quantity = \"))\n",
    "    total = price * quantity\n",
    "    info = f\"{product},{price},{quantity},{total}\\n\"\n",
    "    s = s + info\n",
    "print(s)\n",
    "\n",
    "file = open('bill.csv','w')\n",
    "file.write(s)\n",
    "file.close()"
   ]
  },
  {
   "cell_type": "code",
   "execution_count": 20,
   "id": "370c5328",
   "metadata": {},
   "outputs": [
    {
     "data": {
      "text/plain": [
       "'C:\\\\Users\\\\Aayush\\\\PythonClass_5pm'"
      ]
     },
     "execution_count": 20,
     "metadata": {},
     "output_type": "execute_result"
    }
   ],
   "source": [
    "pwd"
   ]
  },
  {
   "cell_type": "code",
   "execution_count": null,
   "id": "54ecd28a",
   "metadata": {},
   "outputs": [],
   "source": []
  }
 ],
 "metadata": {
  "kernelspec": {
   "display_name": "Python 3 (ipykernel)",
   "language": "python",
   "name": "python3"
  },
  "language_info": {
   "codemirror_mode": {
    "name": "ipython",
    "version": 3
   },
   "file_extension": ".py",
   "mimetype": "text/x-python",
   "name": "python",
   "nbconvert_exporter": "python",
   "pygments_lexer": "ipython3",
   "version": "3.9.12"
  }
 },
 "nbformat": 4,
 "nbformat_minor": 5
}
