{
 "cells": [
  {
   "cell_type": "code",
   "execution_count": 1,
   "id": "269bb2f8",
   "metadata": {},
   "outputs": [],
   "source": [
    "# Python collection\n",
    "# list\n",
    "# tuple\n",
    "# dict\n",
    "# set"
   ]
  },
  {
   "cell_type": "code",
   "execution_count": 2,
   "id": "e5f07aad",
   "metadata": {},
   "outputs": [],
   "source": [
    "# # list\n",
    "# Indexing\n",
    "# Multiple and duplicate\n",
    "# Ordered\n",
    "# Mutable"
   ]
  },
  {
   "cell_type": "code",
   "execution_count": 3,
   "id": "1957f352",
   "metadata": {},
   "outputs": [
    {
     "name": "stdout",
     "output_type": "stream",
     "text": [
      "<class 'list'>\n",
      "<class 'list'>\n"
     ]
    }
   ],
   "source": [
    "a = [1,2,3,4,5,6,7,8,9,10]\n",
    "b = [\"Apple\",\"Ball\",\"cat\",\"Dog\",\"Fish\"]\n",
    "print(type(a))\n",
    "print(type(b))"
   ]
  },
  {
   "cell_type": "code",
   "execution_count": 8,
   "id": "fa0b544c",
   "metadata": {},
   "outputs": [
    {
     "name": "stdout",
     "output_type": "stream",
     "text": [
      "Apple\n",
      "Fish\n",
      "['Apple', 'Ball', 'cat', 'Dog']\n",
      "['Apple', 'cat', 'Fish']\n"
     ]
    }
   ],
   "source": [
    "a = [\"Apple\",\"Ball\",\"cat\",\"Dog\",\"Fish\"]\n",
    "print(a[0])\n",
    "print(a[-1])\n",
    "print(a[0:4])\n",
    "print(a[0:5:2])"
   ]
  },
  {
   "cell_type": "code",
   "execution_count": 9,
   "id": "bf0e354d",
   "metadata": {},
   "outputs": [
    {
     "name": "stdout",
     "output_type": "stream",
     "text": [
      "[1, 1.5, 'Hello World', True, 1, 1]\n"
     ]
    }
   ],
   "source": [
    "a = [1,1.5,\"Hello World\",True,1,1]\n",
    "print(a)"
   ]
  },
  {
   "cell_type": "code",
   "execution_count": 14,
   "id": "97e4744f",
   "metadata": {},
   "outputs": [
    {
     "data": {
      "text/plain": [
       "['Zebra', 'Ball', 'cat', 'Dog', 'Fish']"
      ]
     },
     "execution_count": 14,
     "metadata": {},
     "output_type": "execute_result"
    }
   ],
   "source": [
    "a = [\"Apple\",\"Ball\",\"cat\",\"Dog\",\"Fish\"]\n",
    "a[0] = \"Zebra\"\n",
    "a"
   ]
  },
  {
   "cell_type": "code",
   "execution_count": 15,
   "id": "20b10fec",
   "metadata": {},
   "outputs": [
    {
     "name": "stdout",
     "output_type": "stream",
     "text": [
      "['Apple', 'Ball', 'cat', 'Dog', 'Fish', 1, 2, 3, 4, 5, 6, 7]\n"
     ]
    }
   ],
   "source": [
    "# + *\n",
    "a = [\"Apple\",\"Ball\",\"cat\",\"Dog\",\"Fish\"]\n",
    "b = [1,2,3,4,5,6,7]\n",
    "c = a + b\n",
    "print(c)"
   ]
  },
  {
   "cell_type": "code",
   "execution_count": 16,
   "id": "3158577e",
   "metadata": {},
   "outputs": [
    {
     "name": "stdout",
     "output_type": "stream",
     "text": [
      "['Apple', 'Ball', 'cat', 'Dog', 'Fish', 'Apple', 'Ball', 'cat', 'Dog', 'Fish']\n"
     ]
    }
   ],
   "source": [
    "a = [\"Apple\",\"Ball\",\"cat\",\"Dog\",\"Fish\"]\n",
    "print(a*2)"
   ]
  },
  {
   "cell_type": "code",
   "execution_count": 17,
   "id": "a65b36d3",
   "metadata": {},
   "outputs": [
    {
     "name": "stdout",
     "output_type": "stream",
     "text": [
      "[1, 2, 3, 4, 5, 6, 7, 1, 2, 3, 4, 5, 6, 7]\n"
     ]
    }
   ],
   "source": [
    "a = [1, 2, 3, 4, 5, 6, 7]\n",
    "print(a*2)"
   ]
  },
  {
   "cell_type": "code",
   "execution_count": 20,
   "id": "d8f60422",
   "metadata": {},
   "outputs": [
    {
     "data": {
      "text/plain": [
       "['Apple', 'Ball']"
      ]
     },
     "execution_count": 20,
     "metadata": {},
     "output_type": "execute_result"
    }
   ],
   "source": [
    "#a = list()\n",
    "a = []\n",
    "x = \"Apple\"\n",
    "a = a+[x]\n",
    "a = a+[\"Ball\"]\n",
    "a"
   ]
  },
  {
   "cell_type": "code",
   "execution_count": 21,
   "id": "72714b56",
   "metadata": {},
   "outputs": [
    {
     "name": "stdout",
     "output_type": "stream",
     "text": [
      "Enter n = 5\n",
      "Enter x = 12\n",
      "Enter x = 342\n",
      "Enter x = 54\n",
      "Enter x = 234\n",
      "Enter x = 456\n",
      "[12, 342, 54, 234, 456]\n"
     ]
    }
   ],
   "source": [
    "a = []\n",
    "n = int(input(\"Enter n = \"))\n",
    "for i in range(n):\n",
    "    x = int(input(\"Enter x = \"))\n",
    "    a = a + [x]\n",
    "    \n",
    "print(a)"
   ]
  },
  {
   "cell_type": "code",
   "execution_count": 22,
   "id": "5f21bd51",
   "metadata": {},
   "outputs": [
    {
     "name": "stdout",
     "output_type": "stream",
     "text": [
      "The max value =  456\n",
      "The min value =  12\n",
      "The sum =  1098\n"
     ]
    }
   ],
   "source": [
    "print(\"The max value = \",max(a))\n",
    "print(\"The min value = \",min(a))\n",
    "print(\"The sum = \",sum(a))"
   ]
  },
  {
   "cell_type": "code",
   "execution_count": 23,
   "id": "536b446a",
   "metadata": {},
   "outputs": [
    {
     "name": "stdout",
     "output_type": "stream",
     "text": [
      "[12, 54, 234, 342, 456]\n"
     ]
    }
   ],
   "source": [
    "a.sort()\n",
    "print(a)"
   ]
  },
  {
   "cell_type": "code",
   "execution_count": 24,
   "id": "b39e9013",
   "metadata": {},
   "outputs": [
    {
     "name": "stdout",
     "output_type": "stream",
     "text": [
      "[456, 342, 234, 54, 12]\n"
     ]
    }
   ],
   "source": [
    "a.reverse()\n",
    "print(a)"
   ]
  },
  {
   "cell_type": "code",
   "execution_count": 26,
   "id": "1f941944",
   "metadata": {},
   "outputs": [
    {
     "name": "stdout",
     "output_type": "stream",
     "text": [
      "['Apple', 'Orange', 'Xray', 'Zebra', 'ant']\n"
     ]
    }
   ],
   "source": [
    "a = [\"Zebra\",\"Orange\",\"Apple\",\"Xray\",\"ant\"]\n",
    "a.sort()\n",
    "print(a)"
   ]
  },
  {
   "cell_type": "code",
   "execution_count": 31,
   "id": "074a5d42",
   "metadata": {},
   "outputs": [
    {
     "name": "stdout",
     "output_type": "stream",
     "text": [
      "['.ant', '1', 'Apple', 'Orange', 'Xray', 'Zebra']\n"
     ]
    }
   ],
   "source": [
    "a = [\"Zebra\",\"Orange\",\"Apple\",\"Xray\",\".ant\",\"1\"]\n",
    "a.sort()\n",
    "print(a)"
   ]
  },
  {
   "cell_type": "code",
   "execution_count": 32,
   "id": "6d5aa744",
   "metadata": {},
   "outputs": [],
   "source": [
    "# #To insert values\n",
    "# append() insert() extend()\n",
    "\n",
    "\n",
    "# #delete\n",
    "# del remove() pop()"
   ]
  },
  {
   "cell_type": "code",
   "execution_count": 33,
   "id": "a9fcb974",
   "metadata": {},
   "outputs": [
    {
     "name": "stdout",
     "output_type": "stream",
     "text": [
      "Zebra\n",
      "Orange\n",
      "Apple\n",
      "Xray\n",
      "ant\n"
     ]
    }
   ],
   "source": [
    "a = [\"Zebra\",\"Orange\",\"Apple\",\"Xray\",\"ant\"]\n",
    "for i in a:\n",
    "    print(i)"
   ]
  },
  {
   "cell_type": "code",
   "execution_count": 34,
   "id": "ec5a0a73",
   "metadata": {},
   "outputs": [
    {
     "name": "stdout",
     "output_type": "stream",
     "text": [
      "['Zebra', 'Orange', 'Apple', 'Xray', 'ant', 'Banana']\n"
     ]
    }
   ],
   "source": [
    "#append\n",
    "a = [\"Zebra\",\"Orange\",\"Apple\",\"Xray\",\"ant\"]\n",
    "a.append(\"Banana\")\n",
    "print(a)"
   ]
  },
  {
   "cell_type": "code",
   "execution_count": 35,
   "id": "678e6db7",
   "metadata": {},
   "outputs": [
    {
     "name": "stdout",
     "output_type": "stream",
     "text": [
      "['Zebra', 'Banana', 'Orange', 'Apple', 'Xray', 'ant']\n"
     ]
    }
   ],
   "source": [
    "#insert\n",
    "a = [\"Zebra\",\"Orange\",\"Apple\",\"Xray\",\"ant\"]\n",
    "a.insert(1,\"Banana\")\n",
    "print(a)"
   ]
  },
  {
   "cell_type": "code",
   "execution_count": 36,
   "id": "72e86492",
   "metadata": {},
   "outputs": [
    {
     "name": "stdout",
     "output_type": "stream",
     "text": [
      "['Zebra', 'Orange', 'Apple', 'Xray', 'ant', 1, 2, 3, 4, 5]\n"
     ]
    }
   ],
   "source": [
    "# extend\n",
    "a = [\"Zebra\",\"Orange\",\"Apple\",\"Xray\",\"ant\"]\n",
    "b = [1,2,3,4,5]\n",
    "a.extend(b)\n",
    "print(a)"
   ]
  },
  {
   "cell_type": "code",
   "execution_count": 37,
   "id": "23f55389",
   "metadata": {},
   "outputs": [
    {
     "name": "stdout",
     "output_type": "stream",
     "text": [
      "Enter n = 3\n",
      "Enter x = 234\n",
      "Enter x = 234\n",
      "Enter x = 25\n",
      "[234, 234, 25]\n"
     ]
    }
   ],
   "source": [
    "a = []\n",
    "n = int(input(\"Enter n = \"))\n",
    "for i in range(n):\n",
    "    x = int(input(\"Enter x = \"))\n",
    "    a.append(x)\n",
    "    \n",
    "print(a)"
   ]
  },
  {
   "cell_type": "code",
   "execution_count": 38,
   "id": "e252c331",
   "metadata": {},
   "outputs": [
    {
     "name": "stdout",
     "output_type": "stream",
     "text": [
      "Enter x = Apple\n",
      "['A', 'p', 'p', 'l', 'e']\n"
     ]
    }
   ],
   "source": [
    "x = list(input(\"Enter x = \"))\n",
    "print(x)"
   ]
  },
  {
   "cell_type": "code",
   "execution_count": 39,
   "id": "3e901187",
   "metadata": {},
   "outputs": [
    {
     "data": {
      "text/plain": [
       "['A', 'p', 'p', 'l', 'e']"
      ]
     },
     "execution_count": 39,
     "metadata": {},
     "output_type": "execute_result"
    }
   ],
   "source": [
    "a = \"Apple\"\n",
    "list(a)"
   ]
  },
  {
   "cell_type": "code",
   "execution_count": 42,
   "id": "5f00e2dc",
   "metadata": {},
   "outputs": [
    {
     "name": "stdout",
     "output_type": "stream",
     "text": [
      "No\n"
     ]
    }
   ],
   "source": [
    "a = [\"Zebra\",\"Orange\",\"Apple\",\"Xray\",\"Ant\",\"Pine Apple\"]\n",
    "if \"apple\" in a:\n",
    "    print(\"Yes\")\n",
    "else:\n",
    "    print(\"No\")"
   ]
  },
  {
   "cell_type": "code",
   "execution_count": 41,
   "id": "c2d8f724",
   "metadata": {},
   "outputs": [
    {
     "data": {
      "text/plain": [
       "1"
      ]
     },
     "execution_count": 41,
     "metadata": {},
     "output_type": "execute_result"
    }
   ],
   "source": [
    "a = [\"Zebra\",\"Orange\",\"Apple\",\"Xray\",\"Ant\",\"Pine Apple\"]\n",
    "a.count(\"Apple\")"
   ]
  },
  {
   "cell_type": "code",
   "execution_count": 1,
   "id": "2044a306",
   "metadata": {},
   "outputs": [],
   "source": [
    "# #delete\n",
    "# del remove() pop()"
   ]
  },
  {
   "cell_type": "code",
   "execution_count": 3,
   "id": "7ad64126",
   "metadata": {},
   "outputs": [
    {
     "name": "stdout",
     "output_type": "stream",
     "text": [
      "['Orange', 'Apple', 'Xray', 'Ant', 'Pine Apple']\n"
     ]
    }
   ],
   "source": [
    "#del\n",
    "a = [\"Zebra\",\"Orange\",\"Apple\",\"Xray\",\"Ant\",\"Pine Apple\"]\n",
    "del a[0]\n",
    "print(a)"
   ]
  },
  {
   "cell_type": "code",
   "execution_count": 4,
   "id": "ca63b3c5",
   "metadata": {},
   "outputs": [
    {
     "data": {
      "text/plain": [
       "0"
      ]
     },
     "execution_count": 4,
     "metadata": {},
     "output_type": "execute_result"
    }
   ],
   "source": [
    "a = [\"Zebra\",\"Orange\",\"Apple\",\"Xray\",\"Ant\",\"Pine Apple\"]\n",
    "a.index(\"Zebra\")"
   ]
  },
  {
   "cell_type": "code",
   "execution_count": 5,
   "id": "ca84e29a",
   "metadata": {},
   "outputs": [
    {
     "name": "stdout",
     "output_type": "stream",
     "text": [
      "['Apple', 'Xray', 'Ant', 'Pine Apple']\n"
     ]
    }
   ],
   "source": [
    "a = [\"Zebra\",\"Orange\",\"Apple\",\"Xray\",\"Ant\",\"Pine Apple\"]\n",
    "del a[0:2]\n",
    "print(a)"
   ]
  },
  {
   "cell_type": "code",
   "execution_count": 6,
   "id": "1b9c27e0",
   "metadata": {},
   "outputs": [
    {
     "name": "stdout",
     "output_type": "stream",
     "text": [
      "['Zebra', 'Apple', 'Xray', 'Ant', 'Pine Apple']\n"
     ]
    }
   ],
   "source": [
    "#remove()\n",
    "a = [\"Zebra\",\"Orange\",\"Apple\",\"Xray\",\"Ant\",\"Pine Apple\"]\n",
    "a.remove(\"Orange\")\n",
    "print(a)"
   ]
  },
  {
   "cell_type": "code",
   "execution_count": 7,
   "id": "3c399909",
   "metadata": {},
   "outputs": [
    {
     "name": "stdout",
     "output_type": "stream",
     "text": [
      "['Zebra', 'Orange', 'Xray', 'Ant', 'Pine', 'Apple']\n"
     ]
    }
   ],
   "source": [
    "a = [\"Zebra\",\"Orange\",\"Apple\",\"Xray\",\"Ant\",\"Pine\" ,\"Apple\"]\n",
    "a.remove(\"Apple\")\n",
    "print(a)"
   ]
  },
  {
   "cell_type": "code",
   "execution_count": 8,
   "id": "86c34309",
   "metadata": {},
   "outputs": [
    {
     "name": "stdout",
     "output_type": "stream",
     "text": [
      "['Zebra', 'Orange', 'Xray', 'Ant', 'Pine']\n"
     ]
    }
   ],
   "source": [
    "a = [\"Zebra\",\"Orange\",\"Apple\",\"Xray\",\"Ant\",\"Pine\" ,\"Apple\"]\n",
    "a.remove(\"Apple\")\n",
    "a.remove(\"Apple\")\n",
    "print(a)"
   ]
  },
  {
   "cell_type": "code",
   "execution_count": 10,
   "id": "119d3df7",
   "metadata": {},
   "outputs": [
    {
     "name": "stdout",
     "output_type": "stream",
     "text": [
      "['Zebra', 'Orange', 'Apple', 'Xray', 'Ant', 'Pine', 'Apple']\n",
      "['Zebra', 'Orange', 'Xray', 'Ant', 'Pine', 'Apple']\n",
      "['Zebra', 'Orange', 'Xray', 'Ant', 'Pine']\n"
     ]
    }
   ],
   "source": [
    "a = [\"Zebra\",\"Orange\",\"Apple\",\"Xray\",\"Ant\",\"Pine\" ,\"Apple\"]\n",
    "n = a.count(\"Apple\")\n",
    "print(a)\n",
    "for i in range(n):\n",
    "    a.remove(\"Apple\")\n",
    "    \n",
    "    print(a)"
   ]
  },
  {
   "cell_type": "code",
   "execution_count": 15,
   "id": "fa17c149",
   "metadata": {},
   "outputs": [
    {
     "name": "stdout",
     "output_type": "stream",
     "text": [
      "2\n",
      "6\n"
     ]
    }
   ],
   "source": [
    "a = [\"Zebra\",\"Orange\",\"Apple\",\"Xray\",\"Ant\",\"Pine\" ,\"Apple\"]\n",
    "for i in range(len(a)):\n",
    "    if a[i] == \"Apple\":\n",
    "        print(i)"
   ]
  },
  {
   "cell_type": "code",
   "execution_count": 22,
   "id": "375d7660",
   "metadata": {},
   "outputs": [
    {
     "name": "stdout",
     "output_type": "stream",
     "text": [
      "Apple\n",
      "Ant\n",
      "Apple\n",
      "Ant\n"
     ]
    }
   ],
   "source": [
    "a = [\"Zebra\",\"Orange\",\"Apple\",\"Xray\",\"Ant\",\"Pine\" ,\"Apple\",\"Ant\"]\n",
    "for i in a:\n",
    "    if i[0] == \"A\":\n",
    "        print(i)"
   ]
  },
  {
   "cell_type": "code",
   "execution_count": null,
   "id": "3944742a",
   "metadata": {},
   "outputs": [],
   "source": []
  },
  {
   "cell_type": "code",
   "execution_count": 25,
   "id": "f2dc97b6",
   "metadata": {},
   "outputs": [
    {
     "name": "stdout",
     "output_type": "stream",
     "text": [
      "[[1, 2, 3], [4, 5, 6], [7, 8, 9]]\n",
      "<class 'list'>\n",
      "3\n"
     ]
    }
   ],
   "source": [
    "# List inside list\n",
    "a = [[1,2,3],\n",
    "     [4,5,6],\n",
    "     [7,8,9]]\n",
    "print(a)\n",
    "print(type(a))\n",
    "print(len(a))"
   ]
  },
  {
   "cell_type": "code",
   "execution_count": 27,
   "id": "f40e4ff4",
   "metadata": {},
   "outputs": [
    {
     "name": "stdout",
     "output_type": "stream",
     "text": [
      "[1, 2, 3]\n",
      "[4, 5, 6]\n",
      "[7, 8, 9]\n"
     ]
    }
   ],
   "source": [
    "print(a[0])\n",
    "print(a[1])\n",
    "print(a[2])"
   ]
  },
  {
   "cell_type": "code",
   "execution_count": 38,
   "id": "0609069d",
   "metadata": {},
   "outputs": [
    {
     "data": {
      "text/plain": [
       "9"
      ]
     },
     "execution_count": 38,
     "metadata": {},
     "output_type": "execute_result"
    }
   ],
   "source": [
    "a = [[1,2,3],\n",
    "     [4,5,6],\n",
    "     [7,8,9]]\n",
    "a[2][2]"
   ]
  },
  {
   "cell_type": "code",
   "execution_count": 39,
   "id": "4c8671c2",
   "metadata": {},
   "outputs": [
    {
     "data": {
      "text/plain": [
       "[['Ram', 78, 'Kathmandu'],\n",
       " ['Shyam', 89, 'Bhaktapur'],\n",
       " ['Hari', 56, 'Lalitpur']]"
      ]
     },
     "execution_count": 39,
     "metadata": {},
     "output_type": "execute_result"
    }
   ],
   "source": [
    "info = [[\"Ram\",78,\"Kathmandu\"],\n",
    "       [\"Shyam\",89,\"Bhaktapur\"],\n",
    "       [\"Hari\",56,\"Lalitpur\"]]\n",
    "info"
   ]
  },
  {
   "cell_type": "code",
   "execution_count": 40,
   "id": "8936dda5",
   "metadata": {},
   "outputs": [
    {
     "name": "stdout",
     "output_type": "stream",
     "text": [
      "Enter n = 2\n",
      "Enter name = Ram\n",
      "Enter age = 89\n",
      "Enter add = Kathmandu\n",
      "Enter name = Shyam\n",
      "Enter age = 78\n",
      "Enter add = Bhaktapur\n",
      "[['Ram', 89, 'Kathmandu'], ['Shyam', 78, 'Bhaktapur']]\n"
     ]
    }
   ],
   "source": [
    "info = []\n",
    "n = int(input(\"Enter n = \"))\n",
    "for i in range(n):\n",
    "    name = input(\"Enter name = \")\n",
    "    age = int(input(\"Enter age = \"))\n",
    "    add = input(\"Enter add = \")\n",
    "    data = [name,age,add]\n",
    "    info.append(data)\n",
    "print(info)"
   ]
  },
  {
   "cell_type": "code",
   "execution_count": 44,
   "id": "655acd73",
   "metadata": {},
   "outputs": [],
   "source": [
    "info = [['Ram', 89, 'Kathmandu'], ['Shyam', 78, 'Bhaktapur']]\n"
   ]
  },
  {
   "cell_type": "code",
   "execution_count": 42,
   "id": "d3a0dcb5",
   "metadata": {},
   "outputs": [
    {
     "name": "stdout",
     "output_type": "stream",
     "text": [
      "['Shyam', 78, 'Bhaktapur']\n"
     ]
    }
   ],
   "source": [
    "print(info[1])"
   ]
  },
  {
   "cell_type": "code",
   "execution_count": 43,
   "id": "8c71a5a8",
   "metadata": {},
   "outputs": [
    {
     "data": {
      "text/plain": [
       "'Ram'"
      ]
     },
     "execution_count": 43,
     "metadata": {},
     "output_type": "execute_result"
    }
   ],
   "source": [
    "info[0][0]"
   ]
  },
  {
   "cell_type": "code",
   "execution_count": 48,
   "id": "15152829",
   "metadata": {},
   "outputs": [
    {
     "data": {
      "text/plain": [
       "[['Rama', 89, 'Kathmandu'], ['Shyam', 78, 'Bhaktapur']]"
      ]
     },
     "execution_count": 48,
     "metadata": {},
     "output_type": "execute_result"
    }
   ],
   "source": [
    "info[0][0] = \"Rama\"\n",
    "info"
   ]
  },
  {
   "cell_type": "code",
   "execution_count": 49,
   "id": "e7c44ac2",
   "metadata": {},
   "outputs": [
    {
     "data": {
      "text/plain": [
       "[['Shyam', 78, 'Bhaktapur']]"
      ]
     },
     "execution_count": 49,
     "metadata": {},
     "output_type": "execute_result"
    }
   ],
   "source": [
    "del info[0]\n",
    "info"
   ]
  },
  {
   "cell_type": "code",
   "execution_count": 51,
   "id": "a7a7e40f",
   "metadata": {},
   "outputs": [
    {
     "name": "stdout",
     "output_type": "stream",
     "text": [
      "[['Rama', 89, 'Kathmandu']]\n",
      "['Shyam', 78, 'Bhaktapur']\n"
     ]
    }
   ],
   "source": [
    "a = [['Rama', 89, 'Kathmandu'], ['Shyam', 78, 'Bhaktapur']]\n",
    "b = a.pop(1)\n",
    "print(a)\n",
    "print(b)"
   ]
  },
  {
   "cell_type": "code",
   "execution_count": null,
   "id": "a307f4dc",
   "metadata": {},
   "outputs": [],
   "source": [
    "# search row data using name \n",
    "a = [['Rama', 89, 'Kathmandu'], ['Shyam', 78, 'Bhaktapur']]\n"
   ]
  }
 ],
 "metadata": {
  "kernelspec": {
   "display_name": "Python 3 (ipykernel)",
   "language": "python",
   "name": "python3"
  },
  "language_info": {
   "codemirror_mode": {
    "name": "ipython",
    "version": 3
   },
   "file_extension": ".py",
   "mimetype": "text/x-python",
   "name": "python",
   "nbconvert_exporter": "python",
   "pygments_lexer": "ipython3",
   "version": "3.9.12"
  }
 },
 "nbformat": 4,
 "nbformat_minor": 5
}
