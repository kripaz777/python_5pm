{
 "cells": [
  {
   "cell_type": "code",
   "execution_count": 1,
   "id": "758de110",
   "metadata": {},
   "outputs": [],
   "source": [
    "# pre defined\n",
    "# print() type() int() float() str() bool()\n"
   ]
  },
  {
   "cell_type": "code",
   "execution_count": 4,
   "id": "dfa1a014",
   "metadata": {},
   "outputs": [],
   "source": [
    "# # user defined function\n",
    "\n",
    "# def <function_name>():     defining\n",
    "#     <operation>\n",
    "    \n",
    "# <function_name>()          calling"
   ]
  },
  {
   "cell_type": "code",
   "execution_count": 5,
   "id": "7eb49ef3",
   "metadata": {},
   "outputs": [
    {
     "name": "stdout",
     "output_type": "stream",
     "text": [
      "Hello World\n"
     ]
    }
   ],
   "source": [
    "def hello():\n",
    "    print(\"Hello World\")\n",
    "\n",
    "hello()"
   ]
  },
  {
   "cell_type": "code",
   "execution_count": 6,
   "id": "0e4fe591",
   "metadata": {},
   "outputs": [
    {
     "name": "stdout",
     "output_type": "stream",
     "text": [
      "Hello World\n",
      "Hello World\n"
     ]
    }
   ],
   "source": [
    "hello()\n",
    "hello()"
   ]
  },
  {
   "cell_type": "code",
   "execution_count": 2,
   "id": "703e4741",
   "metadata": {},
   "outputs": [
    {
     "name": "stdout",
     "output_type": "stream",
     "text": [
      "Enter l = 10\n",
      "Enter b = 4\n",
      "Enter h = 2\n",
      "80\n"
     ]
    }
   ],
   "source": [
    "def cal():\n",
    "    l = int(input(\"Enter l = \"))  # local variable\n",
    "    b = int(input(\"Enter b = \"))  # LOcal variable\n",
    "    h = int(input(\"Enter h = \"))  #local variable\n",
    "    \n",
    "    v = l*b*h                     #local variable\n",
    "    print(v)\n",
    "    \n",
    "cal()"
   ]
  },
  {
   "cell_type": "code",
   "execution_count": 3,
   "id": "7de84d0a",
   "metadata": {},
   "outputs": [
    {
     "name": "stdout",
     "output_type": "stream",
     "text": [
      "Enter l = 10\n",
      "Enter b = 8\n",
      "Enter h = 7\n",
      "560\n"
     ]
    }
   ],
   "source": [
    "l = int(input(\"Enter l = \"))  #Global variable\n",
    "b = int(input(\"Enter b = \"))  #Global variable\n",
    "h = int(input(\"Enter h = \"))  #Global variable\n",
    "\n",
    "def cal():\n",
    "    \n",
    "    v = l*b*h                     #local variable\n",
    "    print(v)\n",
    "    \n",
    "cal()\n"
   ]
  },
  {
   "cell_type": "code",
   "execution_count": null,
   "id": "5706fc0e",
   "metadata": {},
   "outputs": [],
   "source": [
    "# function without argument and no return type\n",
    "def cal():\n",
    "    global l,b,h\n",
    "    l = int(input(\"Enter l = \"))  # local variable\n",
    "    b = int(input(\"Enter b = \"))  # LOcal variable\n",
    "    h = int(input(\"Enter h = \"))  #local variable\n",
    "    \n",
    "    v = l*b*h                     #local variable\n",
    "    print(v)\n",
    "    \n",
    "cal()"
   ]
  },
  {
   "cell_type": "code",
   "execution_count": 4,
   "id": "e2133a7f",
   "metadata": {},
   "outputs": [],
   "source": [
    "# # type of function on the basis of arguments and return type\n",
    "# function without argument and no return type\n",
    "# function with argument and no return type\n",
    "# function without argument and return type\n",
    "# function with argument and return type"
   ]
  },
  {
   "cell_type": "code",
   "execution_count": 6,
   "id": "2bb6a405",
   "metadata": {},
   "outputs": [
    {
     "name": "stdout",
     "output_type": "stream",
     "text": [
      "Hello World\n"
     ]
    }
   ],
   "source": [
    "# function with argument and no return type\n",
    "def hello(x):          # x is parameter\n",
    "    print(x)\n",
    "\n",
    "hello(\"Hello World\")    #Hello World is argument"
   ]
  },
  {
   "cell_type": "code",
   "execution_count": null,
   "id": "a181ba18",
   "metadata": {},
   "outputs": [],
   "source": [
    "# function with argument and no return type\n",
    "\n",
    "def cal(x,y,z):    \n",
    "    v = x*y*z                     #local variable\n",
    "    print(v)\n",
    "\n",
    "l = int(input(\"Enter l = \"))  #Global variable\n",
    "b = int(input(\"Enter b = \"))  #Global variable\n",
    "h = int(input(\"Enter h = \"))  #Global variable\n",
    "\n",
    "cal(l,b,h)"
   ]
  },
  {
   "cell_type": "code",
   "execution_count": 8,
   "id": "19a4c2d6",
   "metadata": {},
   "outputs": [
    {
     "name": "stdout",
     "output_type": "stream",
     "text": [
      "C\n",
      "C++\n",
      "C#\n",
      "Java\n",
      "Python\n"
     ]
    }
   ],
   "source": [
    "def language(lan = \"Python\"):\n",
    "    print(lan)\n",
    "    \n",
    "language(\"C\")\n",
    "language(\"C++\")\n",
    "language(\"C#\")\n",
    "language(\"Java\")\n",
    "language()"
   ]
  },
  {
   "cell_type": "code",
   "execution_count": 9,
   "id": "8bc973a2",
   "metadata": {},
   "outputs": [
    {
     "name": "stdout",
     "output_type": "stream",
     "text": [
      "Enter a = 100\n",
      "Enter b = 23\n",
      "Enter + - * /  +\n",
      "123\n"
     ]
    }
   ],
   "source": [
    "def cal(a,b,o):\n",
    "    if o == \"+\":\n",
    "        print(a+b)\n",
    "    elif o == \"-\":\n",
    "        print(a-b)\n",
    "    elif o == \"*\":\n",
    "        print(a*b)\n",
    "    elif o == \"/\":\n",
    "        print(a/b)\n",
    "    else:\n",
    "        print(\"Invalid operator\")\n",
    "        \n",
    "a = int(input(\"Enter a = \"))\n",
    "b = int(input(\"Enter b = \"))\n",
    "o = input(\"Enter + - * /  \")\n",
    "\n",
    "cal(a,b,o)"
   ]
  },
  {
   "cell_type": "code",
   "execution_count": null,
   "id": "a07b89f8",
   "metadata": {},
   "outputs": [],
   "source": [
    "# Return type function\n",
    "def hello():\n",
    "    return \"Hello World\"\n",
    "\n",
    "print(hello())"
   ]
  },
  {
   "cell_type": "code",
   "execution_count": null,
   "id": "c6f25d57",
   "metadata": {},
   "outputs": [],
   "source": [
    "def cal():\n",
    "    l = int(input(\"Enter l = \"))\n",
    "    b = int(input(\"Enter b = \"))\n",
    "    a = l*b\n",
    "    return a\n",
    "\n",
    "x = cal()\n",
    "h = int(input(\"Enter h = \"))\n",
    "v = x*h\n",
    "print(v)\n",
    "print(x)"
   ]
  },
  {
   "cell_type": "code",
   "execution_count": 11,
   "id": "02d10638",
   "metadata": {},
   "outputs": [
    {
     "name": "stdout",
     "output_type": "stream",
     "text": [
      "Enter l = 10\n",
      "Enter b = 4\n",
      "Enter h = 2\n",
      "Area =  40\n",
      "Volume =  80\n"
     ]
    }
   ],
   "source": [
    "def cal():\n",
    "    l = int(input(\"Enter l = \"))\n",
    "    b = int(input(\"Enter b = \"))\n",
    "    h = int(input(\"Enter h = \"))\n",
    "    a = l*b\n",
    "    v = a*h\n",
    "    return a,v\n",
    "\n",
    "area,volume = cal()\n",
    "print(\"Area = \",area)\n",
    "print(\"Volume = \",volume)"
   ]
  },
  {
   "cell_type": "code",
   "execution_count": null,
   "id": "3cf7e7e7",
   "metadata": {},
   "outputs": [],
   "source": [
    "area,volume = (100,100)"
   ]
  },
  {
   "cell_type": "code",
   "execution_count": 1,
   "id": "ff6719a9",
   "metadata": {},
   "outputs": [
    {
     "name": "stdout",
     "output_type": "stream",
     "text": [
      "Hello World\n",
      "Hello World\n"
     ]
    }
   ],
   "source": [
    "# recuesive function\n",
    "def hello():\n",
    "    print(\"Hello World\")\n",
    "    hello()\n",
    "    \n",
    "hello()"
   ]
  },
  {
   "cell_type": "code",
   "execution_count": 2,
   "id": "91bb739b",
   "metadata": {},
   "outputs": [
    {
     "name": "stdout",
     "output_type": "stream",
     "text": [
      "Hello World\n",
      "Enter y for more printy\n",
      "Hello World\n",
      "Enter y for more printy\n",
      "Hello World\n",
      "Enter y for more printasd\n"
     ]
    }
   ],
   "source": [
    "def hello():\n",
    "    print(\"Hello World\")\n",
    "    x = input(\"Enter y for more print\")\n",
    "    if x == 'y':\n",
    "        hello()\n",
    "    \n",
    "hello()"
   ]
  },
  {
   "cell_type": "code",
   "execution_count": 5,
   "id": "0c60c7ae",
   "metadata": {},
   "outputs": [
    {
     "name": "stdout",
     "output_type": "stream",
     "text": [
      "3.141592653589793\n",
      "2.718281828459045\n"
     ]
    }
   ],
   "source": [
    "# math function\n",
    "import math as m\n",
    "print(m.pi)\n",
    "print(m.e)"
   ]
  },
  {
   "cell_type": "code",
   "execution_count": 6,
   "id": "58c9a2b2",
   "metadata": {},
   "outputs": [
    {
     "data": {
      "text/plain": [
       "120"
      ]
     },
     "execution_count": 6,
     "metadata": {},
     "output_type": "execute_result"
    }
   ],
   "source": [
    "n = 5\n",
    "m.factorial(n)"
   ]
  },
  {
   "cell_type": "code",
   "execution_count": 7,
   "id": "7956357e",
   "metadata": {},
   "outputs": [
    {
     "data": {
      "text/plain": [
       "100.0"
      ]
     },
     "execution_count": 7,
     "metadata": {},
     "output_type": "execute_result"
    }
   ],
   "source": [
    "a = 10\n",
    "b = 2\n",
    "m.pow(a,b)"
   ]
  },
  {
   "cell_type": "code",
   "execution_count": 10,
   "id": "bb30f993",
   "metadata": {},
   "outputs": [
    {
     "name": "stdout",
     "output_type": "stream",
     "text": [
      "1.0\n",
      "6.123233995736766e-17\n"
     ]
    }
   ],
   "source": [
    "print(m.sin(m.pi/2))\n",
    "print(m.cos(m.pi/2))"
   ]
  },
  {
   "cell_type": "code",
   "execution_count": 11,
   "id": "e76a449e",
   "metadata": {},
   "outputs": [],
   "source": [
    "# lambda fucntion"
   ]
  },
  {
   "cell_type": "code",
   "execution_count": 12,
   "id": "2444c3f1",
   "metadata": {},
   "outputs": [
    {
     "data": {
      "text/plain": [
       "4"
      ]
     },
     "execution_count": 12,
     "metadata": {},
     "output_type": "execute_result"
    }
   ],
   "source": [
    "a = lambda x:x**2\n",
    "print(a(2))"
   ]
  },
  {
   "cell_type": "code",
   "execution_count": 13,
   "id": "aa09bb9a",
   "metadata": {},
   "outputs": [
    {
     "name": "stdout",
     "output_type": "stream",
     "text": [
      "20\n"
     ]
    }
   ],
   "source": [
    "a = lambda x,y:x*y\n",
    "print(a(10,2))"
   ]
  },
  {
   "cell_type": "code",
   "execution_count": 15,
   "id": "fbff1f91",
   "metadata": {},
   "outputs": [
    {
     "data": {
      "text/plain": [
       "[34, 56, 78, 34, 78, 90, 32, 80, 10]"
      ]
     },
     "execution_count": 15,
     "metadata": {},
     "output_type": "execute_result"
    }
   ],
   "source": [
    "# Filter function\n",
    "a = [34,56,78,34,78,90,32,45,67,33,80,10]\n",
    "list(filter(lambda x:x%2 == 0 ,a))"
   ]
  },
  {
   "cell_type": "code",
   "execution_count": 16,
   "id": "233c0da5",
   "metadata": {},
   "outputs": [
    {
     "data": {
      "text/plain": [
       "[78, 78, 90, 45, 33]"
      ]
     },
     "execution_count": 16,
     "metadata": {},
     "output_type": "execute_result"
    }
   ],
   "source": [
    "a = [34,56,78,34,78,90,32,45,67,33,80,10]\n",
    "list(filter(lambda x:x%3 == 0 ,a))"
   ]
  },
  {
   "cell_type": "code",
   "execution_count": 17,
   "id": "691aeed7",
   "metadata": {},
   "outputs": [
    {
     "data": {
      "text/plain": [
       "['Apple', 'Ball', 'Fish']"
      ]
     },
     "execution_count": 17,
     "metadata": {},
     "output_type": "execute_result"
    }
   ],
   "source": [
    "a = [\"Apple\",\"Ball\",\"cat\",\"dog\",\"Fish\"]\n",
    "list(filter(lambda x:x[0].isupper() ,a))\n"
   ]
  },
  {
   "cell_type": "code",
   "execution_count": 18,
   "id": "84570012",
   "metadata": {},
   "outputs": [
    {
     "data": {
      "text/plain": [
       "[1, 2, 3, 1, 2, 3]"
      ]
     },
     "execution_count": 18,
     "metadata": {},
     "output_type": "execute_result"
    }
   ],
   "source": [
    "# Mapping\n",
    "a = [1,2,3]\n",
    "a*2"
   ]
  },
  {
   "cell_type": "code",
   "execution_count": 21,
   "id": "a6135a7d",
   "metadata": {},
   "outputs": [
    {
     "data": {
      "text/plain": [
       "[1, 4, 9, 16, 25, 36, 49, 64, 81, 100]"
      ]
     },
     "execution_count": 21,
     "metadata": {},
     "output_type": "execute_result"
    }
   ],
   "source": [
    "a = [1,2,3,4,5,6,7,8,9,10]\n",
    "list(map(lambda x:x**2, a))"
   ]
  },
  {
   "cell_type": "code",
   "execution_count": 22,
   "id": "1bc7f266",
   "metadata": {},
   "outputs": [
    {
     "data": {
      "text/plain": [
       "['apple', 'ball', 'cat', 'dog', 'fish']"
      ]
     },
     "execution_count": 22,
     "metadata": {},
     "output_type": "execute_result"
    }
   ],
   "source": [
    "a = [\"Apple\",\"Ball\",\"cat\",\"dog\",\"Fish\"]\n",
    "list(map(lambda x:x.lower(), a))"
   ]
  },
  {
   "cell_type": "code",
   "execution_count": null,
   "id": "370e9777",
   "metadata": {},
   "outputs": [],
   "source": [
    "def add(a,b):\n",
    "    return a+b\n",
    "def sub(a,b):\n",
    "    return a-b\n",
    "def mul(a,b):\n",
    "    return a*b\n",
    "def div(a,b):\n",
    "    return a/b\n",
    "def cal(a,b,o):\n",
    "    if o == \"+\":\n",
    "        print(add(a,b))\n",
    "    elif o == \"-\":\n",
    "        print(sub(a,b))\n",
    "    elif o == \"*\":\n",
    "        print(mul(a,b))\n",
    "    elif o == \"/\":\n",
    "        print(div(a,b))\n",
    "    else:\n",
    "        print(\"Invalid operator\")\n",
    "        \n",
    "a = int(input(\"Enter a = \"))\n",
    "b = int(input(\"Enter b = \"))\n",
    "o = input(\"Enter + - * /  \")\n",
    "\n",
    "cal(a,b,o)"
   ]
  }
 ],
 "metadata": {
  "kernelspec": {
   "display_name": "Python 3 (ipykernel)",
   "language": "python",
   "name": "python3"
  },
  "language_info": {
   "codemirror_mode": {
    "name": "ipython",
    "version": 3
   },
   "file_extension": ".py",
   "mimetype": "text/x-python",
   "name": "python",
   "nbconvert_exporter": "python",
   "pygments_lexer": "ipython3",
   "version": "3.9.12"
  }
 },
 "nbformat": 4,
 "nbformat_minor": 5
}
