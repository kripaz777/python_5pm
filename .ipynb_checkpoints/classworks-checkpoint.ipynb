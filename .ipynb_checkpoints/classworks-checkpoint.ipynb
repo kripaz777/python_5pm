{
 "cells": [
  {
   "cell_type": "code",
   "execution_count": 1,
   "id": "5b796173",
   "metadata": {},
   "outputs": [],
   "source": [
    "# WAP to make a billing system in list inside list\n",
    "# WAp to create a matrix taking row, column and values from users\n",
    "# WAP to create tuple inside tuple and convert it into list inside list\n",
    "# WAP to create dict inside list and CRUD operations\n",
    "# WAP to create dic inside dict and CRUD operations"
   ]
  },
  {
   "cell_type": "code",
   "execution_count": null,
   "id": "6877997b",
   "metadata": {},
   "outputs": [],
   "source": [
    "bill = []\n",
    "all_total = 0\n",
    "n = int(input(\"Enter n = \"))\n",
    "for i in range(n):\n",
    "    product = input(\"Enter product name = \")\n",
    "    price = int(input(\"Enter price = \"))\n",
    "    quantity = float(input(\"Enter quantity = \"))\n",
    "    total = price * quantity\n",
    "    data = [product,price,quantity,total]\n",
    "    bill.append(data)\n",
    "    all_total = all_total + total\n",
    "print(bill)\n",
    "print(all_total)"
   ]
  },
  {
   "cell_type": "code",
   "execution_count": 4,
   "id": "5ecacc52",
   "metadata": {},
   "outputs": [
    {
     "name": "stdout",
     "output_type": "stream",
     "text": [
      "Enter n = 2\n",
      "Enter product name = Apple\n",
      "Enter price = 300\n",
      "Enter quantity = 3\n",
      "Enter product name = Banana\n",
      "Enter price = 100\n",
      "Enter quantity = 3\n",
      "(('Apple', 300, 3.0, 900.0), ('Banana', 100, 3.0, 300.0))\n"
     ]
    }
   ],
   "source": [
    "bill = ()\n",
    "n = int(input(\"Enter n = \"))\n",
    "for i in range(n):\n",
    "    product = input(\"Enter product name = \")\n",
    "    price = int(input(\"Enter price = \"))\n",
    "    quantity = float(input(\"Enter quantity = \"))\n",
    "    total = price * quantity\n",
    "    data = (product,price,quantity,total)\n",
    "    bill = bill + (data,)\n",
    "    \n",
    "print(bill)\n"
   ]
  },
  {
   "cell_type": "code",
   "execution_count": 8,
   "id": "61c021f4",
   "metadata": {},
   "outputs": [
    {
     "data": {
      "text/plain": [
       "[['Apple', 300, 3.0, 900.0], ['Banana', 100, 3.0, 300.0]]"
      ]
     },
     "execution_count": 8,
     "metadata": {},
     "output_type": "execute_result"
    }
   ],
   "source": [
    "l = []\n",
    "a = (('Apple', 300, 3.0, 900.0), ('Banana', 100, 3.0, 300.0))\n",
    "for i in a:\n",
    "    l.append(list(i))\n",
    "    \n",
    "l"
   ]
  },
  {
   "cell_type": "code",
   "execution_count": 10,
   "id": "f2d2c4d5",
   "metadata": {},
   "outputs": [
    {
     "data": {
      "text/plain": [
       "(('Apple', 300, 3.0, 900.0), ('Banana', 100, 3.0, 300.0))"
      ]
     },
     "execution_count": 10,
     "metadata": {},
     "output_type": "execute_result"
    }
   ],
   "source": [
    "t = ()\n",
    "a = [['Apple', 300, 3.0, 900.0], ['Banana', 100, 3.0, 300.0]]\n",
    "for i in a:\n",
    "    t = t +(tuple(i),)\n",
    "    \n",
    "t"
   ]
  },
  {
   "cell_type": "code",
   "execution_count": 11,
   "id": "efc225a5",
   "metadata": {},
   "outputs": [
    {
     "data": {
      "text/plain": [
       "[{'name': 'Ram', 'age': 56, 'add': 'Kathmandu'},\n",
       " {'name': 'Shyam', 'age': 36, 'add': 'Bhaktapur'},\n",
       " {'name': 'Hari', 'age': 76, 'add': 'Lalitpur'}]"
      ]
     },
     "execution_count": 11,
     "metadata": {},
     "output_type": "execute_result"
    }
   ],
   "source": [
    "# WAP to create dict inside list and CRUD operations\n",
    "l = [{'name':\"Ram\",'age':56,'add':\"Kathmandu\"},\n",
    "    {'name':\"Shyam\",'age':36,'add':\"Bhaktapur\"},\n",
    "    {'name':\"Hari\",'age':76,'add':\"Lalitpur\"}]\n",
    "l"
   ]
  },
  {
   "cell_type": "code",
   "execution_count": null,
   "id": "f4697a1a",
   "metadata": {},
   "outputs": [
    {
     "name": "stdout",
     "output_type": "stream",
     "text": [
      "Enter n = 2\n"
     ]
    }
   ],
   "source": [
    "l = []\n",
    "n = int(input(\"Enter n = \"))\n",
    "for i in range(n):\n",
    "    name = input(\"Enter name = \")\n",
    "    age = int(input(\"Enter age = \"))\n",
    "    add = input(\"Enter add = \")\n",
    "    info = {'name':name,'age':age,'add':add}\n",
    "    l.append(info)\n",
    "    \n",
    "l"
   ]
  },
  {
   "cell_type": "code",
   "execution_count": null,
   "id": "810cfa49",
   "metadata": {},
   "outputs": [],
   "source": [
    "# inside set no list no dict, no set"
   ]
  },
  {
   "cell_type": "code",
   "execution_count": null,
   "id": "59a56bd9",
   "metadata": {},
   "outputs": [],
   "source": [
    "#dict inside dict\n",
    "d = {1:{'name': 'Ram', 'age': 56, 'add': 'Kathmandu'},\n",
    "     2:{'name': 'Shyam', 'age': 36, 'add': 'Bhaktapur'},\n",
    "     3:{'name': 'Hari', 'age': 76, 'add': 'Lalitpur'}}\n"
   ]
  },
  {
   "cell_type": "code",
   "execution_count": 1,
   "id": "b393c15a",
   "metadata": {},
   "outputs": [
    {
     "data": {
      "text/plain": [
       "{1: {'name': 'Ram', 'age': 56, 'add': 'Kathmandu'},\n",
       " 2: {'name': 'Shyam', 'age': 36, 'add': 'Bhaktapur'},\n",
       " 3: {'name': 'Hari', 'age': 76, 'add': 'Lalitpur'}}"
      ]
     },
     "execution_count": 1,
     "metadata": {},
     "output_type": "execute_result"
    }
   ],
   "source": [
    "d = {}\n",
    "d[1] = {'name': 'Ram', 'age': 56, 'add': 'Kathmandu'}\n",
    "d[2] = {'name': 'Shyam', 'age': 36, 'add': 'Bhaktapur'}\n",
    "d[3] = {'name': 'Hari', 'age': 76, 'add': 'Lalitpur'}\n",
    "d"
   ]
  },
  {
   "cell_type": "code",
   "execution_count": null,
   "id": "d128ea8e",
   "metadata": {},
   "outputs": [],
   "source": []
  }
 ],
 "metadata": {
  "kernelspec": {
   "display_name": "Python 3 (ipykernel)",
   "language": "python",
   "name": "python3"
  },
  "language_info": {
   "codemirror_mode": {
    "name": "ipython",
    "version": 3
   },
   "file_extension": ".py",
   "mimetype": "text/x-python",
   "name": "python",
   "nbconvert_exporter": "python",
   "pygments_lexer": "ipython3",
   "version": "3.9.12"
  }
 },
 "nbformat": 4,
 "nbformat_minor": 5
}
